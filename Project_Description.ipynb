{
 "cells": [
  {
   "attachments": {},
   "cell_type": "markdown",
   "metadata": {},
   "source": [
    "# Indicator Automation\n",
    "\n",
    "### Objective: Train and create a Complete Project that involves automating a process done on the computer\n",
    "\n",
    "### Description:\n",
    "\n",
    "Imagine that you work in a large chain of clothing stores with 25 stores spread throughout Brazil.\n",
    "\n",
    "Every day, in the morning, the data analysis team calculates the called One Pages and sends the OnePage of your store to the manager of each store, as well as all the information used in calculating the indicators.\n",
    "\n",
    "A One Page is a very simple and straight to the point summary, used by the store management team to find out the main indicators of each store and allow in 1 page (hence the name OnePage) both the comparison between different stores, as well as which indicators that store was able to fulfill that day or not.\n",
    "\n",
    "Example from OnePage:"
   ]
  },
  {
   "attachments": {},
   "cell_type": "markdown",
   "metadata": {},
   "source": [
    "![title](onepage.png)"
   ]
  },
  {
   "attachments": {},
   "cell_type": "markdown",
   "metadata": {},
   "source": [
    "As a Data Analyst, my role is to create a process in the most automatic way possible to calculate the OnePage of each store and send an email to the manager of each store with its OnePage in the body of the email and also the complete file with the details of your respective store attached.\n",
    "\n",
    "Ex: The email to be sent to the Manager of Store C should be as an example"
   ]
  },
  {
   "attachments": {},
   "cell_type": "markdown",
   "metadata": {},
   "source": [
    "![exemplo_email](Exemplo.png)"
   ]
  },
  {
   "attachments": {},
   "cell_type": "markdown",
   "metadata": {},
   "source": [
    "### Files and Important Information\n",
    "\n",
    "- Emails.xlsx file with the name, store and email of each manager. Note: Replace each manager's email column with your own email, so you can test the result\n",
    "\n",
    "- Vendas.xlsx file with the sales of all stores. Note: Each manager should only receive the OnePage and an attached excel file with the sales of their store. Information from another store must not be sent to the manager who is not from that store.\n",
    "\n",
    "- Lojas.csv file with the name of each Store\n",
    "\n",
    "- At the end, the automation will send an email to the board (information is also in the Emails.xlsx file) with 2 store rankings attached, 1 daily ranking and another annual ranking. In addition, in the body of the email, he highlights which was the best and worst store of the day and also the best and worst store of the year. The ranking of a store is given by the store's revenue.\n",
    "\n",
    "- The worksheets of each store are saved inside the store folder with the date of the worksheet, in order to create a backup history\n",
    "\n",
    "### Indicadores do OnePage\n",
    "\n",
    "- Revenue -> Goal Year: 1,650,000 / Goal Day: 1000\n",
    "- Product Diversity (how many different products were sold in that period) -> Goal Year: 120 / Goal Day: 4\n",
    "- Average Ticket per Sale -> Goal Year: 500 / Goal Day: 500\n",
    "\n",
    "Note: Each indicator is calculated on the day and year. The indicator of the day is the last day available in the Sales worksheet (the most recent date)"
   ]
  }
 ],
 "metadata": {
  "kernelspec": {
   "display_name": "Python 3",
   "language": "python",
   "name": "python3"
  },
  "language_info": {
   "codemirror_mode": {
    "name": "ipython",
    "version": 3
   },
   "file_extension": ".py",
   "mimetype": "text/x-python",
   "name": "python",
   "nbconvert_exporter": "python",
   "pygments_lexer": "ipython3",
   "version": "3.8.3"
  }
 },
 "nbformat": 4,
 "nbformat_minor": 4
}
